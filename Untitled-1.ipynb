{
 "cells": [
  {
   "cell_type": "code",
   "execution_count": 25,
   "id": "f021656d",
   "metadata": {},
   "outputs": [],
   "source": [
    "import pandas as pd\n",
    "import numpy as np\n",
    "import matplotlib.pyplot as plt\n",
    "from sklearn import linear_model\n",
    "\n",
    "\n",
    "\n",
    "\n"
   ]
  },
  {
   "cell_type": "markdown",
   "id": "c9ed9631",
   "metadata": {},
   "source": [
    "1). Loading the data"
   ]
  },
  {
   "cell_type": "code",
   "execution_count": 26,
   "id": "7abb07a3",
   "metadata": {},
   "outputs": [
    {
     "data": {
      "text/html": [
       "<div>\n",
       "<style scoped>\n",
       "    .dataframe tbody tr th:only-of-type {\n",
       "        vertical-align: middle;\n",
       "    }\n",
       "\n",
       "    .dataframe tbody tr th {\n",
       "        vertical-align: top;\n",
       "    }\n",
       "\n",
       "    .dataframe thead th {\n",
       "        text-align: right;\n",
       "    }\n",
       "</style>\n",
       "<table border=\"1\" class=\"dataframe\">\n",
       "  <thead>\n",
       "    <tr style=\"text-align: right;\">\n",
       "      <th></th>\n",
       "      <th>x</th>\n",
       "      <th>y</th>\n",
       "    </tr>\n",
       "  </thead>\n",
       "  <tbody>\n",
       "    <tr>\n",
       "      <th>0</th>\n",
       "      <td>0</td>\n",
       "      <td>20.26</td>\n",
       "    </tr>\n",
       "    <tr>\n",
       "      <th>1</th>\n",
       "      <td>1</td>\n",
       "      <td>5.61</td>\n",
       "    </tr>\n",
       "    <tr>\n",
       "      <th>2</th>\n",
       "      <td>2</td>\n",
       "      <td>3.14</td>\n",
       "    </tr>\n",
       "    <tr>\n",
       "      <th>3</th>\n",
       "      <td>3</td>\n",
       "      <td>-30.00</td>\n",
       "    </tr>\n",
       "    <tr>\n",
       "      <th>4</th>\n",
       "      <td>4</td>\n",
       "      <td>-40.00</td>\n",
       "    </tr>\n",
       "    <tr>\n",
       "      <th>5</th>\n",
       "      <td>5</td>\n",
       "      <td>-8.13</td>\n",
       "    </tr>\n",
       "    <tr>\n",
       "      <th>6</th>\n",
       "      <td>6</td>\n",
       "      <td>-11.73</td>\n",
       "    </tr>\n",
       "    <tr>\n",
       "      <th>7</th>\n",
       "      <td>7</td>\n",
       "      <td>-16.08</td>\n",
       "    </tr>\n",
       "    <tr>\n",
       "      <th>8</th>\n",
       "      <td>8</td>\n",
       "      <td>-19.95</td>\n",
       "    </tr>\n",
       "    <tr>\n",
       "      <th>9</th>\n",
       "      <td>9</td>\n",
       "      <td>-24.03</td>\n",
       "    </tr>\n",
       "  </tbody>\n",
       "</table>\n",
       "</div>"
      ],
      "text/plain": [
       "   x      y\n",
       "0  0  20.26\n",
       "1  1   5.61\n",
       "2  2   3.14\n",
       "3  3 -30.00\n",
       "4  4 -40.00\n",
       "5  5  -8.13\n",
       "6  6 -11.73\n",
       "7  7 -16.08\n",
       "8  8 -19.95\n",
       "9  9 -24.03"
      ]
     },
     "execution_count": 26,
     "metadata": {},
     "output_type": "execute_result"
    }
   ],
   "source": [
    "df=pd.read_csv(\"Table1.csv\")\n",
    "df"
   ]
  },
  {
   "cell_type": "code",
   "execution_count": 27,
   "id": "42e7b0f5",
   "metadata": {},
   "outputs": [
    {
     "data": {
      "text/plain": [
       "array([ 20.26,   5.61,   3.14, -30.  , -40.  ,  -8.13, -11.73, -16.08,\n",
       "       -19.95, -24.03])"
      ]
     },
     "execution_count": 27,
     "metadata": {},
     "output_type": "execute_result"
    }
   ],
   "source": [
    "\n",
    "X = df['x'].to_numpy() # preferred way\n",
    "X\n",
    "Y = df['y'].to_numpy() # preferred way\n",
    "Y"
   ]
  },
  {
   "cell_type": "markdown",
   "id": "e88a4c0f",
   "metadata": {},
   "source": [
    "2). Use all data given in Table 1 to find a linear regression model. Plot x, y as a scatter\n",
    " plot and plot your linear regression model in the same scatter plot."
   ]
  },
  {
   "cell_type": "code",
   "execution_count": 28,
   "id": "4a365e16",
   "metadata": {},
   "outputs": [
    {
     "name": "stdout",
     "output_type": "stream",
     "text": [
      "a= -3.5572727272727267 b= 3.91672727272727\n"
     ]
    },
    {
     "name": "stderr",
     "output_type": "stream",
     "text": [
      "c:\\Users\\demit\\anaconda3\\Lib\\site-packages\\sklearn\\utils\\validation.py:2739: UserWarning: X does not have valid feature names, but LinearRegression was fitted with feature names\n",
      "  warnings.warn(\n"
     ]
    }
   ],
   "source": [
    "reg=linear_model.LinearRegression()\n",
    "reg.fit(df[[\"x\"]],df.y)\n",
    "reg.predict([[5]])  \n",
    "reg.coef_, reg.intercept_\n",
    "a,b= reg.coef_[0], reg.intercept_\n",
    "print(\"a=\",a,\"b=\",b)"
   ]
  },
  {
   "cell_type": "code",
   "execution_count": 29,
   "id": "d43e8a83",
   "metadata": {},
   "outputs": [
    {
     "data": {
      "image/png": "[encoded data removed]",
      "text/plain": [
       "<Figure size 640x480 with 1 Axes>"
      ]
     },
     "metadata": {},
     "output_type": "display_data"
    }
   ],
   "source": [
    "#%matplotlib inline\n",
    "plt.xlabel(\"x\")\n",
    "plt.ylabel(\"y\")\n",
    "plt.scatter(df.x, df.y,color=\"red\",marker=\"+\")\n",
    "\n",
    "plt.plot(df.x,reg.predict(df[[\"x\"]]),color=\"blue\",linewidth=3)\n",
    "plt.show()"
   ]
  },
  {
   "cell_type": "markdown",
   "id": "895c9940",
   "metadata": {},
   "source": [
    " 3. You are given two linear models as follows.\n",
    " • Model 1: y=−4x+12\n",
    " • Model 2: y=−3.55x+3.91\n",
    " \n",
    " \n",
    " The robust estimator finds model parameters which minimize the following loss function.Here, θ represents model parameters, β is a hyper parameter and number of data samples N =10, respectively. Note the yi and ˆyi are true and predicted i−th data sample, respectively."
   ]
  },
  {
   "cell_type": "code",
   "execution_count": 24,
   "id": "d4fb2f3a",
   "metadata": {},
   "outputs": [
    {
     "name": "stdout",
     "output_type": "stream",
     "text": [
      "Robust Loss for both models and different beta values:\n",
      "Beta = 1: Model 1 Loss = 0.4354, Model 2 Loss = 0.9728\n",
      "Beta = 1e-06: Model 1 Loss = 1.0000, Model 2 Loss = 1.0000\n",
      "Beta = 1000: Model 1 Loss = 0.0002, Model 2 Loss = 0.0002\n"
     ]
    }
   ],
   "source": [
    "def robust_loss(y_true, y_pred, beta):\n",
    "    N = len(y_true)\n",
    "    residuals_sq = (y_true - y_pred) ** 2\n",
    "    loss_terms = residuals_sq / (residuals_sq + beta**2)\n",
    "    return np.mean(loss_terms)\n",
    "\n",
    "# Predict using both models\n",
    "y_pred_m1 = -4 * X + 12\n",
    "y_pred_m2 = -3.55 * X+ 3.91\n",
    "betas = [1, 1e-6, 1000]\n",
    "\n",
    "print(\"Robust Loss for both models and different beta values:\")\n",
    "for beta in betas:\n",
    "    loss_m1 = robust_loss(Y, y_pred_m1, beta)\n",
    "    loss_m2 = robust_loss(Y, y_pred_m2, beta)\n",
    "    print(f\"Beta = {beta}: Model 1 Loss = {loss_m1:.4f}, Model 2 Loss = {loss_m2:.4f}\")\n"
   ]
  },
  {
   "cell_type": "markdown",
   "id": "1001d4e0",
   "metadata": {},
   "source": [
    "5).β = 1 is optimal for your scenario. It balances sensitivity to regular data and robust protection against outliers.\n",
    "\n",
    "\n",
    "\n",
    "Too small β (e.g., β = 1e-6): The loss for every data point approaches 1, so outliers dominate, and the model can't distinguish between normal and anomalous points. This mimics the standard squared error (very sensitive to large residuals).\n",
    "\n",
    "Too large β (e.g., β = 1000): All losses approach zero except for huge outliers, meaning regular data is undervalued—the model essentially “ignores” most differences.\n",
    "\n",
    "Optimal β (e.g., β = 1): Normal data points retain a quadratic penalty (like standard regression), but the effect of very large residuals (outliers) is capped at a maximum value. This prevents outliers from disproportionately influencing the overall loss and model selection, while still considering the structure of the normal data.\n",
    "\n"
   ]
  },
  {
   "cell_type": "code",
   "execution_count": null,
   "id": "8b231341",
   "metadata": {},
   "outputs": [],
   "source": []
  }
 ],
 "metadata": {
  "kernelspec": {
   "display_name": "Python (ml-env)",
   "language": "python",
   "name": "ml-env"
  },
  "language_info": {
   "codemirror_mode": {
    "name": "ipython",
    "version": 3
   },
   "file_extension": ".py",
   "mimetype": "text/x-python",
   "name": "python",
   "nbconvert_exporter": "python",
   "pygments_lexer": "ipython3",
   "version": "3.13.5"
  }
 },
 "nbformat": 4,
 "nbformat_minor": 5
}
